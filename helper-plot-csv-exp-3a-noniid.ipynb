{
 "cells": [
  {
   "cell_type": "markdown",
   "id": "fb42bb67",
   "metadata": {},
   "source": [
    "# Read csv files and plot learning curves for FedAvg experiment 3a, non-IID"
   ]
  },
  {
   "cell_type": "code",
   "execution_count": 1,
   "id": "8ff27c51",
   "metadata": {},
   "outputs": [],
   "source": [
    "import torch\n",
    "import pandas as pd\n",
    "import matplotlib\n",
    "import matplotlib.pyplot as plt"
   ]
  },
  {
   "cell_type": "code",
   "execution_count": 2,
   "id": "b40a9cde",
   "metadata": {},
   "outputs": [
    {
     "data": {
      "text/plain": [
       "'C:\\\\Users\\\\wangyuan\\\\myfl-1\\\\Federated-Learning-PyTorch'"
      ]
     },
     "execution_count": 2,
     "metadata": {},
     "output_type": "execute_result"
    }
   ],
   "source": [
    "import os\n",
    "from os import walk\n",
    "from os.path import join\n",
    "os.getcwd()"
   ]
  },
  {
   "cell_type": "code",
   "execution_count": 3,
   "id": "38f5c508",
   "metadata": {},
   "outputs": [],
   "source": [
    "file_path_1 = 'save\\\\figures-cifar\\\\data_src_exp_3a_non_iid'\n",
    "_, _, filenames_1 = next(walk(file_path_1))\n",
    "files_to_read_1 = [join(file_path_1,f) for f in filenames_1]\n",
    "df_1 = [pd.read_csv(f) for f in files_to_read_1]"
   ]
  },
  {
   "cell_type": "code",
   "execution_count": 4,
   "id": "e96470b0",
   "metadata": {},
   "outputs": [],
   "source": [
    "# manually set the label names\n",
    "run_labels=[0]*3\n",
    "run_labels[0] = 'SGD, $\\eta=0.05$'\n",
    "run_labels[1] = 'FedSGD, $\\eta=0.05$'\n",
    "run_labels[2] = 'FedAvg, $\\eta=0.05$'\n",
    "# run_labels[3] = 'FedSGD, $\\eta=0.5$'\n",
    "# run_labels[4] = 'FedAvg, $\\eta=0.03$'\n",
    "# run_labels[5] = 'FedAvg, $\\eta=0.05$'\n",
    "# run_labels[6] = 'FedAvg, $\\eta=0.1$'\n",
    "\n",
    "# define linestyle and color\n",
    "run_colors, run_linestyles = [0]*3, [0]*3\n",
    "\n",
    "run_colors[0] = 'limegreen'\n",
    "run_colors[1] = 'deeppink'\n",
    "run_colors[2] = 'dodgerblue'\n",
    "# run_colors[3] = 'gold'\n",
    "# run_colors[4] = 'dodgerblue'\n",
    "# run_colors[5] = 'lightsteelblue'\n",
    "# run_colors[6] = 'lightslategrey'\n",
    "\n",
    "run_linestyles[0] = '-'\n",
    "run_linestyles[1] = '--'\n",
    "run_linestyles[2] = '-'\n",
    "# run_linestyles[3] = '-'\n",
    "# run_linestyles[4] = '-'\n",
    "# run_linestyles[5] = '-'\n",
    "# run_linestyles[6] = '-'\n",
    "\n",
    "# # define the x-axle scaling factor to allow for comparison in minibatch update amount\n",
    "# xsf = [0]*7\n",
    "# xsf[0]=1000\n",
    "# xsf[1]=50\n",
    "# xsf[2]=100\n",
    "# xsf[3]=500\n",
    "# xsf[4]=1000\n",
    "# xsf[5]=2000\n",
    "# xsf[6]=5000"
   ]
  },
  {
   "cell_type": "markdown",
   "id": "afacc8da",
   "metadata": {},
   "source": [
    "### choosing color and linestyle\n",
    "Please see https://matplotlib.org/stable/gallery/color/named_colors.html and https://matplotlib.org/3.0.3/gallery/lines_bars_and_markers/line_styles_reference.html"
   ]
  },
  {
   "cell_type": "code",
   "execution_count": 10,
   "id": "41328095",
   "metadata": {},
   "outputs": [
    {
     "data": {
      "text/plain": [
       "Text(0, 0.5, 'Test acc')"
      ]
     },
     "execution_count": 10,
     "metadata": {},
     "output_type": "execute_result"
    },
    {
     "data": {
      "image/png": "[encoded data removed]",
      "text/plain": [
       "<Figure size 432x288 with 1 Axes>"
      ]
     },
     "metadata": {
      "needs_background": "light"
     },
     "output_type": "display_data"
    }
   ],
   "source": [
    "# plot the first figure for experiment 2 with iid data \n",
    "step_1=10\n",
    "plt.figure()\n",
    "for i, data in enumerate(df_1):\n",
    "    if i==0:\n",
    "        sf, step_1 = 500, 1\n",
    "    else:\n",
    "        sf, step_1 = 1, 5\n",
    "    x = [dx*sf for j, dx in enumerate(data['Step'].tolist()) if j % step_1 == 0]\n",
    "    y = [dy for j, dy in enumerate(data['Value'].tolist()) if j % step_1 == 0]   \n",
    "#     x.append(data['Step'].tolist()[-1])\n",
    "#     y.append(data['Value'].tolist()[-1]) \n",
    "    plt.plot(x,y,label=run_labels[i], linestyle=run_linestyles[i], color=run_colors[i],linewidth=2)\n",
    "    plt.legend(loc='lower right')\n",
    "plt.grid()\n",
    "# plt.tight_layout()\n",
    "plt.xlim(0,100000)\n",
    "plt.ylim(0.4,0.85)\n",
    "plt.xlabel('Comm. rounds')\n",
    "plt.ylabel('Test acc')\n",
    "# plt.savefig('save\\\\figures-cifar\\\\fedavg-exp-3a-non-iid.png')"
   ]
  },
  {
   "cell_type": "code",
   "execution_count": null,
   "id": "ce2999a9",
   "metadata": {},
   "outputs": [],
   "source": []
  }
 ],
 "metadata": {
  "kernelspec": {
   "display_name": "Python 3",
   "language": "python",
   "name": "python3"
  },
  "language_info": {
   "codemirror_mode": {
    "name": "ipython",
    "version": 3
   },
   "file_extension": ".py",
   "mimetype": "text/x-python",
   "name": "python",
   "nbconvert_exporter": "python",
   "pygments_lexer": "ipython3",
   "version": "3.8.8"
  }
 },
 "nbformat": 4,
 "nbformat_minor": 5
}
