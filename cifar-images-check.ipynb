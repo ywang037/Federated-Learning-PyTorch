{
 "cells": [
  {
   "cell_type": "markdown",
   "id": "b304dbb9",
   "metadata": {},
   "source": [
    "# Check out the CIFAR10 images"
   ]
  },
  {
   "cell_type": "code",
   "execution_count": 1,
   "id": "8690d139",
   "metadata": {},
   "outputs": [],
   "source": [
    "import torch\n",
    "import torch.utils.data as data\n",
    "import torchvision\n",
    "from torchvision import transforms\n",
    "from torchvision import datasets\n",
    "import matplotlib\n",
    "import matplotlib.pyplot as plt\n",
    "import numpy as np"
   ]
  },
  {
   "cell_type": "code",
   "execution_count": 2,
   "id": "21a1aa69",
   "metadata": {},
   "outputs": [
    {
     "data": {
      "text/plain": [
       "'C:\\\\Users\\\\YWANG\\\\Federated-Learning-PyTorch'"
      ]
     },
     "execution_count": 2,
     "metadata": {},
     "output_type": "execute_result"
    }
   ],
   "source": [
    "import os\n",
    "os.getcwd()"
   ]
  },
  {
   "cell_type": "code",
   "execution_count": 33,
   "id": "cfff8e81",
   "metadata": {},
   "outputs": [],
   "source": [
    "# # standard normalization\n",
    "# mean_0 = (0.5, 0.5, 0.5)\n",
    "# std_0 = (0.5, 0.5, 0.5)\n",
    "\n",
    "# # standard transform for training data\n",
    "# transform_train_0 = transforms.Compose([\n",
    "#     transforms.ToTensor(),\n",
    "#     transforms.Normalize(mean_0,std_0),\n",
    "# ])\n",
    "\n",
    "# # standard transform for test data\n",
    "# transform_test_0 = transforms.Compose([\n",
    "#     transforms.ToTensor(),\n",
    "#     transforms.Normalize(mean_0,std_0),\n",
    "# ])\n",
    "\n",
    "# alternative normilzation\n",
    "mean_1 = (0.4914, 0.4822, 0.4465)\n",
    "std_1 = (0.2023, 0.1994, 0.2010)\n",
    "\n",
    "# Alternative transform for training data\n",
    "# enhanced transform, random crop and flip is optional\n",
    "transform_train_1 = transforms.Compose([\n",
    "    transforms.RandomCrop(size=32),\n",
    "#     transforms.CenterCrop(size=24),\n",
    "    transforms.RandomHorizontalFlip(),\n",
    "    transforms.ToTensor(),\n",
    "    transforms.Normalize(mean_1,std_1),\n",
    "])\n",
    "\n",
    "# alternative transform for test data\n",
    "transform_test_1 = transforms.Compose([\n",
    "    transforms.ToTensor(),\n",
    "    transforms.Normalize(mean_1,std_1)\n",
    "])"
   ]
  },
  {
   "cell_type": "code",
   "execution_count": 34,
   "id": "aa4f0010",
   "metadata": {},
   "outputs": [
    {
     "name": "stdout",
     "output_type": "stream",
     "text": [
      "Files already downloaded and verified\n",
      "Files already downloaded and verified\n",
      "50000\n"
     ]
    }
   ],
   "source": [
    "data_dir = 'data\\\\cifar'\n",
    "dataset_train = datasets.CIFAR10(data_dir, train=True, download=True, transform=transform_train_1)\n",
    "dataset_test = datasets.CIFAR10(data_dir, train=False, download=True, transform=transform_test_1)\n",
    "loader_train = data.DataLoader(dataset_train, batch_size=100, shuffle=True)\n",
    "loader_test = data.DataLoader(dataset_test, batch_size=100, shuffle=False)\n",
    "print(len(loader_train.dataset)) # number of images of the enture training dataset"
   ]
  },
  {
   "cell_type": "code",
   "execution_count": 35,
   "id": "3ae490bb",
   "metadata": {},
   "outputs": [],
   "source": [
    "# images, labels = next(iter(loader_test))\n",
    "# images.shape"
   ]
  },
  {
   "cell_type": "code",
   "execution_count": 40,
   "id": "2a2e864f",
   "metadata": {},
   "outputs": [
    {
     "name": "stdout",
     "output_type": "stream",
     "text": [
      "9144\n",
      "torch.Size([3, 32, 32])\n"
     ]
    }
   ],
   "source": [
    "idx = np.random.randint(1,len(loader_train.dataset))\n",
    "print(idx)\n",
    "images, labels = loader_train.dataset[idx]\n",
    "print(images.shape)"
   ]
  },
  {
   "cell_type": "code",
   "execution_count": 41,
   "id": "38fdd66d",
   "metadata": {},
   "outputs": [
    {
     "data": {
      "text/plain": [
       "<matplotlib.image.AxesImage at 0x275c278c790>"
      ]
     },
     "execution_count": 41,
     "metadata": {},
     "output_type": "execute_result"
    },
    {
     "data": {
      "image/png": "[encoded data removed]",
      "text/plain": [
       "<Figure size 432x288 with 1 Axes>"
      ]
     },
     "metadata": {
      "needs_background": "light"
     },
     "output_type": "display_data"
    },
    {
     "data": {
      "image/png": "[encoded data removed]",
      "text/plain": [
       "<Figure size 432x288 with 1 Axes>"
      ]
     },
     "metadata": {
      "needs_background": "light"
     },
     "output_type": "display_data"
    }
   ],
   "source": [
    "img = images.permute(1,2,0).numpy() * 255 # convert torch tensor to numpy array for imshow\n",
    "plt.figure()\n",
    "# plt.xlim(0,31)\n",
    "# plt.ylim(0,31)\n",
    "plt.imshow(img.astype(np.uint8))\n",
    "plt.figure()\n",
    "img2, _ = dataset_train[idx]\n",
    "img2 = img2.permute(1,2,0).numpy() * 255\n",
    "plt.imshow(img2.astype(np.uint8))"
   ]
  },
  {
   "cell_type": "code",
   "execution_count": null,
   "id": "c2da13c2",
   "metadata": {},
   "outputs": [],
   "source": []
  }
 ],
 "metadata": {
  "kernelspec": {
   "display_name": "Python 3",
   "language": "python",
   "name": "python3"
  },
  "language_info": {
   "codemirror_mode": {
    "name": "ipython",
    "version": 3
   },
   "file_extension": ".py",
   "mimetype": "text/x-python",
   "name": "python",
   "nbconvert_exporter": "python",
   "pygments_lexer": "ipython3",
   "version": "3.8.8"
  }
 },
 "nbformat": 4,
 "nbformat_minor": 5
}
