{
 "cells": [
  {
   "cell_type": "markdown",
   "id": "07d85e14-81ae-4711-821a-a7b012747b8d",
   "metadata": {},
   "source": [
    "# About\n",
    "\n",
    "### CIFAR10 experiments\n",
    "* The CNN model used in [the vanilla FL paper](https://arxiv.org/abs/1602.05629) for learning CIFAR10 data is grabbed from [TensorFlow tutorial](www.tensorflow.org/tutorials/images/cnn). This model (referred to as the TF model) has about $1.2\\times10^6$ parameters, which is tow times larger than the one created by following [PyTorch tutorial](https://pytorch.org/tutorials/beginner/blitz/cifar10_tutorial.html) (referred to as the Torch model). \n",
    "* Since our goal is to evaluate FL vs baseline method, not to achieve the best possible accuracy on CIFAR10 learning task, therefore the smaller Torch model is sufficient for our needs, considering that training the TF model may require much longer time."
   ]
  },
  {
   "cell_type": "code",
   "execution_count": null,
   "id": "7572f3d9-6f8d-468d-bcf5-91070b10b205",
   "metadata": {},
   "outputs": [],
   "source": []
  }
 ],
 "metadata": {
  "kernelspec": {
   "display_name": "Python 3",
   "language": "python",
   "name": "python3"
  },
  "language_info": {
   "codemirror_mode": {
    "name": "ipython",
    "version": 3
   },
   "file_extension": ".py",
   "mimetype": "text/x-python",
   "name": "python",
   "nbconvert_exporter": "python",
   "pygments_lexer": "ipython3",
   "version": "3.8.8"
  }
 },
 "nbformat": 4,
 "nbformat_minor": 5
}
