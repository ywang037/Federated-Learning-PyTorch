{
 "cells": [
  {
   "cell_type": "markdown",
   "id": "8bf8080e",
   "metadata": {},
   "source": [
    "# Read csv files and plot"
   ]
  },
  {
   "cell_type": "code",
   "execution_count": 2,
   "id": "ab888bf5",
   "metadata": {},
   "outputs": [],
   "source": [
    "import torch\n",
    "import pandas as pd"
   ]
  },
  {
   "cell_type": "code",
   "execution_count": 3,
   "id": "f7e75523",
   "metadata": {},
   "outputs": [
    {
     "data": {
      "text/plain": [
       "'C:\\\\Users\\\\wangyuan\\\\myfl-1\\\\Federated-Learning-PyTorch'"
      ]
     },
     "execution_count": 3,
     "metadata": {},
     "output_type": "execute_result"
    }
   ],
   "source": [
    "import os\n",
    "os.getcwd()"
   ]
  },
  {
   "cell_type": "code",
   "execution_count": 38,
   "id": "6b57a409",
   "metadata": {},
   "outputs": [],
   "source": [
    "file  = 'save\\plot_try.csv'\n",
    "file1 = 'save\\plot_try2.csv'"
   ]
  },
  {
   "cell_type": "code",
   "execution_count": 39,
   "id": "b94342f7",
   "metadata": {},
   "outputs": [],
   "source": [
    "data  = pd.read_csv(file)\n",
    "data1 = pd.read_csv(file1)"
   ]
  },
  {
   "cell_type": "code",
   "execution_count": 40,
   "id": "a19c710b",
   "metadata": {},
   "outputs": [
    {
     "name": "stdout",
     "output_type": "stream",
     "text": [
      "     Epoch  Training loss  Test loss  Test acc\n",
      "0        1         1.5462     1.0250    0.8471\n",
      "1        2         0.6784     0.3172    0.9270\n",
      "2        3         0.3393     0.1711    0.9483\n",
      "3        4         0.2677     0.1304    0.9590\n",
      "4        5         0.2365     0.1203    0.9650\n",
      "..     ...            ...        ...       ...\n",
      "595    596         0.0001     0.0338    0.9931\n",
      "596    597         0.0001     0.0338    0.9931\n",
      "597    598         0.0001     0.0338    0.9932\n",
      "598    599         0.0001     0.0338    0.9932\n",
      "599    600         0.0001     0.0338    0.9931\n",
      "\n",
      "[600 rows x 4 columns]         Wall time  Step   Value\n",
      "0    1.620096e+09     1  0.3949\n",
      "1    1.620096e+09     2  0.5233\n",
      "2    1.620096e+09     3  0.5774\n",
      "3    1.620096e+09     4  0.6284\n",
      "4    1.620096e+09     5  0.6172\n",
      "..            ...   ...     ...\n",
      "195  1.620098e+09   196  0.6539\n",
      "196  1.620098e+09   197  0.6703\n",
      "197  1.620098e+09   198  0.6634\n",
      "198  1.620098e+09   199  0.6646\n",
      "199  1.620098e+09   200  0.6648\n",
      "\n",
      "[200 rows x 3 columns]\n"
     ]
    }
   ],
   "source": [
    "print(data, data1)"
   ]
  },
  {
   "cell_type": "code",
   "execution_count": 55,
   "id": "6dc3462f",
   "metadata": {},
   "outputs": [],
   "source": [
    "x1 = data['Epoch']\n",
    "y1 = data['Test acc']\n",
    "x2 = [10*x for x in data1['Step'].tolist()]\n",
    "y2 = data1['Value'].tolist()"
   ]
  },
  {
   "cell_type": "code",
   "execution_count": 17,
   "id": "f642c011",
   "metadata": {},
   "outputs": [],
   "source": [
    "import matplotlib\n",
    "import matplotlib.pyplot as plt"
   ]
  },
  {
   "cell_type": "code",
   "execution_count": null,
   "id": "9f353e94",
   "metadata": {},
   "outputs": [],
   "source": [
    "plt.figure()\n",
    "plt.plot(x1,y1,label='test acc')\n",
    "plt.plot(x2,y2,label='list values')\n",
    "plt.legend(loc='lower right')\n",
    "plt.tight_layout()\n",
    "plt.xlim(0,300)\n",
    "# plt.ylim(0.9,1.0)\n",
    "plt.xlabel('Rounds')\n",
    "plt.ylabel('Test acc')\n",
    "plt.savefig('save/figures/first-try.png')"
   ]
  },
  {
   "cell_type": "code",
   "execution_count": null,
   "id": "e63d0866",
   "metadata": {},
   "outputs": [],
   "source": []
  }
 ],
 "metadata": {
  "kernelspec": {
   "display_name": "Python 3",
   "language": "python",
   "name": "python3"
  },
  "language_info": {
   "codemirror_mode": {
    "name": "ipython",
    "version": 3
   },
   "file_extension": ".py",
   "mimetype": "text/x-python",
   "name": "python",
   "nbconvert_exporter": "python",
   "pygments_lexer": "ipython3",
   "version": "3.8.8"
  }
 },
 "nbformat": 4,
 "nbformat_minor": 5
}
