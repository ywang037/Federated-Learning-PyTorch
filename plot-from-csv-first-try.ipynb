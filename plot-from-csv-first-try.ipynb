{
 "cells": [
  {
   "cell_type": "markdown",
   "id": "d8cd175c",
   "metadata": {},
   "source": [
    "# Read csv files and plot"
   ]
  },
  {
   "cell_type": "code",
   "execution_count": 2,
   "id": "ad184037",
   "metadata": {},
   "outputs": [],
   "source": [
    "import torch\n",
    "import pandas as pd"
   ]
  },
  {
   "cell_type": "code",
   "execution_count": 3,
   "id": "1cc70058",
   "metadata": {},
   "outputs": [
    {
     "data": {
      "text/plain": [
       "'C:\\\\Users\\\\wangyuan\\\\myfl-1\\\\Federated-Learning-PyTorch'"
      ]
     },
     "execution_count": 3,
     "metadata": {},
     "output_type": "execute_result"
    }
   ],
   "source": [
    "import os\n",
    "os.getcwd()"
   ]
  },
  {
   "cell_type": "code",
   "execution_count": 6,
   "id": "76df45d6",
   "metadata": {},
   "outputs": [],
   "source": [
    "file = 'save\\plot_try.csv'"
   ]
  },
  {
   "cell_type": "code",
   "execution_count": 7,
   "id": "3d79d7d4",
   "metadata": {},
   "outputs": [],
   "source": [
    "data = pd.read_csv(file)"
   ]
  },
  {
   "cell_type": "code",
   "execution_count": 9,
   "id": "d42f7cf4",
   "metadata": {},
   "outputs": [
    {
     "name": "stdout",
     "output_type": "stream",
     "text": [
      "     Epoch  Training loss  Test loss  Test acc\n",
      "0        1         1.5462     1.0250    0.8471\n",
      "1        2         0.6784     0.3172    0.9270\n",
      "2        3         0.3393     0.1711    0.9483\n",
      "3        4         0.2677     0.1304    0.9590\n",
      "4        5         0.2365     0.1203    0.9650\n",
      "..     ...            ...        ...       ...\n",
      "595    596         0.0001     0.0338    0.9931\n",
      "596    597         0.0001     0.0338    0.9931\n",
      "597    598         0.0001     0.0338    0.9932\n",
      "598    599         0.0001     0.0338    0.9932\n",
      "599    600         0.0001     0.0338    0.9931\n",
      "\n",
      "[600 rows x 4 columns]\n"
     ]
    }
   ],
   "source": [
    "print(data)"
   ]
  },
  {
   "cell_type": "code",
   "execution_count": 16,
   "id": "adb4e67d",
   "metadata": {},
   "outputs": [],
   "source": [
    "x1 = data['Epoch']\n",
    "y1 = data['Test acc']"
   ]
  },
  {
   "cell_type": "code",
   "execution_count": 17,
   "id": "4b5ae778",
   "metadata": {},
   "outputs": [],
   "source": [
    "import matplotlib\n",
    "import matplotlib.pyplot as plt"
   ]
  },
  {
   "cell_type": "code",
   "execution_count": 30,
   "id": "5ec11bd8",
   "metadata": {},
   "outputs": [
    {
     "data": {
      "text/plain": [
       "Text(20.625, 0.5, 'Test acc')"
      ]
     },
     "execution_count": 30,
     "metadata": {},
     "output_type": "execute_result"
    },
    {
     "data": {
      "image/png": "[encoded data removed]",
      "text/plain": [
       "<Figure size 432x288 with 1 Axes>"
      ]
     },
     "metadata": {
      "needs_background": "light"
     },
     "output_type": "display_data"
    }
   ],
   "source": [
    "plt.figure()\n",
    "plt.plot(x1,y1,label='test acc')\n",
    "plt.legend(loc='lower right')\n",
    "plt.tight_layout()\n",
    "plt.xlim(0,300)\n",
    "plt.ylim(0.9,1.0)\n",
    "plt.xlabel('Rounds')\n",
    "plt.ylabel('Test acc')"
   ]
  },
  {
   "cell_type": "code",
   "execution_count": null,
   "id": "b4f3ae9f",
   "metadata": {},
   "outputs": [],
   "source": []
  }
 ],
 "metadata": {
  "kernelspec": {
   "display_name": "Python 3",
   "language": "python",
   "name": "python3"
  },
  "language_info": {
   "codemirror_mode": {
    "name": "ipython",
    "version": 3
   },
   "file_extension": ".py",
   "mimetype": "text/x-python",
   "name": "python",
   "nbconvert_exporter": "python",
   "pygments_lexer": "ipython3",
   "version": "3.8.8"
  }
 },
 "nbformat": 4,
 "nbformat_minor": 5
}
