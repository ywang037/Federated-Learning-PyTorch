{
 "cells": [
  {
   "cell_type": "markdown",
   "id": "07d85e14-81ae-4711-821a-a7b012747b8d",
   "metadata": {},
   "source": [
    "# Model selection for CIFAR10 experiments\n",
    "* The CNN model used in [the vanilla FL paper](https://arxiv.org/abs/1602.05629) for learning CIFAR10 data is grabbed from [TensorFlow tutorial](www.tensorflow.org/tutorials/images/cnn). This model (referred to as the TF model) has about $1.2\\times10^6$ parameters, which is approximately two times larger than the one used in [PyTorch tutorial](https://pytorch.org/tutorials/beginner/blitz/cifar10_tutorial.html) (referred to as the Torch model). \n",
    "* Since our goal is to evaluate FL vs baseline method, not to achieve the best possible accuracy on CIFAR10 learning task, therefore the smaller Torch model is sufficient for our needs, considering that training the TF model may require much longer time."
   ]
  },
  {
   "cell_type": "code",
   "execution_count": 1,
   "id": "7572f3d9-6f8d-468d-bcf5-91070b10b205",
   "metadata": {},
   "outputs": [],
   "source": [
    "import os\n",
    "os.chdir('C:/Users/wangyuan/myfl-1/Federated-Learning-PyTorch/src')"
   ]
  },
  {
   "cell_type": "code",
   "execution_count": 2,
   "id": "4e86e708-7873-47d8-9af3-60d1503c2eb0",
   "metadata": {},
   "outputs": [],
   "source": [
    "import torch\n",
    "import models\n",
    "import utils"
   ]
  },
  {
   "cell_type": "code",
   "execution_count": 3,
   "id": "c137e1e6-7420-4903-b261-6facc26a59d9",
   "metadata": {},
   "outputs": [
    {
     "name": "stdout",
     "output_type": "stream",
     "text": [
      "Torch model (original) \thas: 62006\tparameters.\n",
      "Torch model (WY's) \thas: 62006\tparameters.\n",
      "TF model (WY's) \thas: 122570\tparameters.\n"
     ]
    }
   ],
   "source": [
    "# create a model instance for Torch model (copied from the original repository)\n",
    "model_torch_0 = models.CNNCifar()\n",
    "\n",
    "# create a model instance for Torch model (created by WY)\n",
    "model_torch_1 = models.CNNCifarTorch()\n",
    "\n",
    "# create a model instance for Torch model (created by WY)\n",
    "model_tf = models.CNNCifarTf()\n",
    "\n",
    "print(f'Torch model (original) \\thas: {utils.get_count_params(model_torch_0)}\\tparameters.')\n",
    "print(f'Torch model (WY\\'s) \\thas: {utils.get_count_params(model_torch_1)}\\tparameters.')\n",
    "print(f'TF model (WY\\'s) \\thas: {utils.get_count_params(model_tf)}\\tparameters.')"
   ]
  },
  {
   "cell_type": "code",
   "execution_count": null,
   "id": "82e7295f-94ec-463c-b36a-bd0ec2e59297",
   "metadata": {},
   "outputs": [],
   "source": []
  }
 ],
 "metadata": {
  "kernelspec": {
   "display_name": "Python 3",
   "language": "python",
   "name": "python3"
  },
  "language_info": {
   "codemirror_mode": {
    "name": "ipython",
    "version": 3
   },
   "file_extension": ".py",
   "mimetype": "text/x-python",
   "name": "python",
   "nbconvert_exporter": "python",
   "pygments_lexer": "ipython3",
   "version": "3.8.8"
  }
 },
 "nbformat": 4,
 "nbformat_minor": 5
}
